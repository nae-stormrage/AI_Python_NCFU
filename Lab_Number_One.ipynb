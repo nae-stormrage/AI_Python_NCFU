{
  "nbformat": 4,
  "nbformat_minor": 0,
  "metadata": {
    "colab": {
      "provenance": [],
      "authorship_tag": "ABX9TyNes3TLVb2AE7PcKWw6NwvD",
      "include_colab_link": true
    },
    "kernelspec": {
      "name": "python3",
      "display_name": "Python 3"
    },
    "language_info": {
      "name": "python"
    }
  },
  "cells": [
    {
      "cell_type": "markdown",
      "metadata": {
        "id": "view-in-github",
        "colab_type": "text"
      },
      "source": [
        "<a href=\"https://colab.research.google.com/github/nae-stormrage/AI_Python_NCFU/blob/main/Lab_Number_One.ipynb\" target=\"_parent\"><img src=\"https://colab.research.google.com/assets/colab-badge.svg\" alt=\"Open In Colab\"/></a>"
      ]
    },
    {
      "cell_type": "markdown",
      "source": [
        "# Практическая работа №1. Простейший скрипт на Python."
      ],
      "metadata": {
        "id": "Px5gEjdgBx3b"
      }
    },
    {
      "cell_type": "markdown",
      "source": [
        "* **ФИО студента:** Маркус Станислав Витальевич\n",
        "\n",
        "* **Группа студента** ИНС-б-о-22-2\n",
        "* **Курс:** 2"
      ],
      "metadata": {
        "id": "vp930Y8KCHt3"
      }
    },
    {
      "cell_type": "markdown",
      "source": [
        "## Задание №1."
      ],
      "metadata": {
        "id": "80wL2V_bEH_b"
      }
    },
    {
      "cell_type": "markdown",
      "source": [],
      "metadata": {
        "id": "FHIVCeUq0kbG"
      }
    }
  ]
}