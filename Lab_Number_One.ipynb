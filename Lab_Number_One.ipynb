{
  "nbformat": 4,
  "nbformat_minor": 0,
  "metadata": {
    "colab": {
      "provenance": [],
      "authorship_tag": "ABX9TyMVbv9A2JtuCf5FinLRg9Nc",
      "include_colab_link": true
    },
    "kernelspec": {
      "name": "python3",
      "display_name": "Python 3"
    },
    "language_info": {
      "name": "python"
    }
  },
  "cells": [
    {
      "cell_type": "markdown",
      "metadata": {
        "id": "view-in-github",
        "colab_type": "text"
      },
      "source": [
        "<a href=\"https://colab.research.google.com/github/nae-stormrage/AI_Python_NCFU/blob/main/Lab_Number_One.ipynb\" target=\"_parent\"><img src=\"https://colab.research.google.com/assets/colab-badge.svg\" alt=\"Open In Colab\"/></a>"
      ]
    },
    {
      "cell_type": "markdown",
      "source": [
        "# Практическая работа №1. Простейший скрипт на Python."
      ],
      "metadata": {
        "id": "Px5gEjdgBx3b"
      }
    },
    {
      "cell_type": "markdown",
      "source": [
        "* **ФИО студента:** Маркус Станислав Витальевич\n",
        "\n",
        "* **Группа студента** ИНС-б-о-22-2\n",
        "* **Курс:** 2"
      ],
      "metadata": {
        "id": "vp930Y8KCHt3"
      }
    },
    {
      "cell_type": "markdown",
      "source": [
        "## Задание №1."
      ],
      "metadata": {
        "id": "80wL2V_bEH_b"
      }
    },
    {
      "cell_type": "markdown",
      "source": [
        "Для начала загружаем данные и импортируем библиотеку NumPy."
      ],
      "metadata": {
        "id": "FHIVCeUq0kbG"
      }
    },
    {
      "cell_type": "code",
      "source": [
        "!wget https://raw.githubusercontent.com/nae-stormrage/AI_Python_NCFU/main/dataset/iris.data"
      ],
      "metadata": {
        "colab": {
          "base_uri": "https://localhost:8080/"
        },
        "id": "dnWPm-CF1ROP",
        "outputId": "c3b6b943-d938-4aa8-bb04-2cf9fc6b7389"
      },
      "execution_count": 1,
      "outputs": [
        {
          "output_type": "stream",
          "name": "stdout",
          "text": [
            "--2024-02-14 18:19:13--  https://raw.githubusercontent.com/nae-stormrage/AI_Python_NCFU/main/dataset/iris.data\n",
            "Resolving raw.githubusercontent.com (raw.githubusercontent.com)... 185.199.108.133, 185.199.110.133, 185.199.111.133, ...\n",
            "Connecting to raw.githubusercontent.com (raw.githubusercontent.com)|185.199.108.133|:443... connected.\n",
            "HTTP request sent, awaiting response... 200 OK\n",
            "Length: 4551 (4.4K) [text/plain]\n",
            "Saving to: ‘iris.data’\n",
            "\n",
            "\riris.data             0%[                    ]       0  --.-KB/s               \riris.data           100%[===================>]   4.44K  --.-KB/s    in 0s      \n",
            "\n",
            "2024-02-14 18:19:13 (32.3 MB/s) - ‘iris.data’ saved [4551/4551]\n",
            "\n"
          ]
        }
      ]
    },
    {
      "cell_type": "code",
      "source": [
        "import numpy as np\n",
        "data_path = \"iris.data\"\n",
        "data = np.genfromtxt(data_path, delimiter=\",\")\n",
        "print(data)"
      ],
      "metadata": {
        "colab": {
          "base_uri": "https://localhost:8080/"
        },
        "id": "rwvtYPHv2U-K",
        "outputId": "c58b5968-157b-4121-d31a-6a9a898898a1"
      },
      "execution_count": 2,
      "outputs": [
        {
          "output_type": "stream",
          "name": "stdout",
          "text": [
            "[[5.1 3.5 1.4 0.2 nan]\n",
            " [4.9 3.  1.4 0.2 nan]\n",
            " [4.7 3.2 1.3 0.2 nan]\n",
            " [4.6 3.1 1.5 0.2 nan]\n",
            " [5.  3.6 1.4 0.2 nan]\n",
            " [5.4 3.9 1.7 0.4 nan]\n",
            " [4.6 3.4 1.4 0.3 nan]\n",
            " [5.  3.4 1.5 0.2 nan]\n",
            " [4.4 2.9 1.4 0.2 nan]\n",
            " [4.9 3.1 1.5 0.1 nan]\n",
            " [5.4 3.7 1.5 0.2 nan]\n",
            " [4.8 3.4 1.6 0.2 nan]\n",
            " [4.8 3.  1.4 0.1 nan]\n",
            " [4.3 3.  1.1 0.1 nan]\n",
            " [5.8 4.  1.2 0.2 nan]\n",
            " [5.7 4.4 1.5 0.4 nan]\n",
            " [5.4 3.9 1.3 0.4 nan]\n",
            " [5.1 3.5 1.4 0.3 nan]\n",
            " [5.7 3.8 1.7 0.3 nan]\n",
            " [5.1 3.8 1.5 0.3 nan]\n",
            " [5.4 3.4 1.7 0.2 nan]\n",
            " [5.1 3.7 1.5 0.4 nan]\n",
            " [4.6 3.6 1.  0.2 nan]\n",
            " [5.1 3.3 1.7 0.5 nan]\n",
            " [4.8 3.4 1.9 0.2 nan]\n",
            " [5.  3.  1.6 0.2 nan]\n",
            " [5.  3.4 1.6 0.4 nan]\n",
            " [5.2 3.5 1.5 0.2 nan]\n",
            " [5.2 3.4 1.4 0.2 nan]\n",
            " [4.7 3.2 1.6 0.2 nan]\n",
            " [4.8 3.1 1.6 0.2 nan]\n",
            " [5.4 3.4 1.5 0.4 nan]\n",
            " [5.2 4.1 1.5 0.1 nan]\n",
            " [5.5 4.2 1.4 0.2 nan]\n",
            " [4.9 3.1 1.5 0.1 nan]\n",
            " [5.  3.2 1.2 0.2 nan]\n",
            " [5.5 3.5 1.3 0.2 nan]\n",
            " [4.9 3.1 1.5 0.1 nan]\n",
            " [4.4 3.  1.3 0.2 nan]\n",
            " [5.1 3.4 1.5 0.2 nan]\n",
            " [5.  3.5 1.3 0.3 nan]\n",
            " [4.5 2.3 1.3 0.3 nan]\n",
            " [4.4 3.2 1.3 0.2 nan]\n",
            " [5.  3.5 1.6 0.6 nan]\n",
            " [5.1 3.8 1.9 0.4 nan]\n",
            " [4.8 3.  1.4 0.3 nan]\n",
            " [5.1 3.8 1.6 0.2 nan]\n",
            " [4.6 3.2 1.4 0.2 nan]\n",
            " [5.3 3.7 1.5 0.2 nan]\n",
            " [5.  3.3 1.4 0.2 nan]\n",
            " [7.  3.2 4.7 1.4 nan]\n",
            " [6.4 3.2 4.5 1.5 nan]\n",
            " [6.9 3.1 4.9 1.5 nan]\n",
            " [5.5 2.3 4.  1.3 nan]\n",
            " [6.5 2.8 4.6 1.5 nan]\n",
            " [5.7 2.8 4.5 1.3 nan]\n",
            " [6.3 3.3 4.7 1.6 nan]\n",
            " [4.9 2.4 3.3 1.  nan]\n",
            " [6.6 2.9 4.6 1.3 nan]\n",
            " [5.2 2.7 3.9 1.4 nan]\n",
            " [5.  2.  3.5 1.  nan]\n",
            " [5.9 3.  4.2 1.5 nan]\n",
            " [6.  2.2 4.  1.  nan]\n",
            " [6.1 2.9 4.7 1.4 nan]\n",
            " [5.6 2.9 3.6 1.3 nan]\n",
            " [6.7 3.1 4.4 1.4 nan]\n",
            " [5.6 3.  4.5 1.5 nan]\n",
            " [5.8 2.7 4.1 1.  nan]\n",
            " [6.2 2.2 4.5 1.5 nan]\n",
            " [5.6 2.5 3.9 1.1 nan]\n",
            " [5.9 3.2 4.8 1.8 nan]\n",
            " [6.1 2.8 4.  1.3 nan]\n",
            " [6.3 2.5 4.9 1.5 nan]\n",
            " [6.1 2.8 4.7 1.2 nan]\n",
            " [6.4 2.9 4.3 1.3 nan]\n",
            " [6.6 3.  4.4 1.4 nan]\n",
            " [6.8 2.8 4.8 1.4 nan]\n",
            " [6.7 3.  5.  1.7 nan]\n",
            " [6.  2.9 4.5 1.5 nan]\n",
            " [5.7 2.6 3.5 1.  nan]\n",
            " [5.5 2.4 3.8 1.1 nan]\n",
            " [5.5 2.4 3.7 1.  nan]\n",
            " [5.8 2.7 3.9 1.2 nan]\n",
            " [6.  2.7 5.1 1.6 nan]\n",
            " [5.4 3.  4.5 1.5 nan]\n",
            " [6.  3.4 4.5 1.6 nan]\n",
            " [6.7 3.1 4.7 1.5 nan]\n",
            " [6.3 2.3 4.4 1.3 nan]\n",
            " [5.6 3.  4.1 1.3 nan]\n",
            " [5.5 2.5 4.  1.3 nan]\n",
            " [5.5 2.6 4.4 1.2 nan]\n",
            " [6.1 3.  4.6 1.4 nan]\n",
            " [5.8 2.6 4.  1.2 nan]\n",
            " [5.  2.3 3.3 1.  nan]\n",
            " [5.6 2.7 4.2 1.3 nan]\n",
            " [5.7 3.  4.2 1.2 nan]\n",
            " [5.7 2.9 4.2 1.3 nan]\n",
            " [6.2 2.9 4.3 1.3 nan]\n",
            " [5.1 2.5 3.  1.1 nan]\n",
            " [5.7 2.8 4.1 1.3 nan]\n",
            " [6.3 3.3 6.  2.5 nan]\n",
            " [5.8 2.7 5.1 1.9 nan]\n",
            " [7.1 3.  5.9 2.1 nan]\n",
            " [6.3 2.9 5.6 1.8 nan]\n",
            " [6.5 3.  5.8 2.2 nan]\n",
            " [7.6 3.  6.6 2.1 nan]\n",
            " [4.9 2.5 4.5 1.7 nan]\n",
            " [7.3 2.9 6.3 1.8 nan]\n",
            " [6.7 2.5 5.8 1.8 nan]\n",
            " [7.2 3.6 6.1 2.5 nan]\n",
            " [6.5 3.2 5.1 2.  nan]\n",
            " [6.4 2.7 5.3 1.9 nan]\n",
            " [6.8 3.  5.5 2.1 nan]\n",
            " [5.7 2.5 5.  2.  nan]\n",
            " [5.8 2.8 5.1 2.4 nan]\n",
            " [6.4 3.2 5.3 2.3 nan]\n",
            " [6.5 3.  5.5 1.8 nan]\n",
            " [7.7 3.8 6.7 2.2 nan]\n",
            " [7.7 2.6 6.9 2.3 nan]\n",
            " [6.  2.2 5.  1.5 nan]\n",
            " [6.9 3.2 5.7 2.3 nan]\n",
            " [5.6 2.8 4.9 2.  nan]\n",
            " [7.7 2.8 6.7 2.  nan]\n",
            " [6.3 2.7 4.9 1.8 nan]\n",
            " [6.7 3.3 5.7 2.1 nan]\n",
            " [7.2 3.2 6.  1.8 nan]\n",
            " [6.2 2.8 4.8 1.8 nan]\n",
            " [6.1 3.  4.9 1.8 nan]\n",
            " [6.4 2.8 5.6 2.1 nan]\n",
            " [7.2 3.  5.8 1.6 nan]\n",
            " [7.4 2.8 6.1 1.9 nan]\n",
            " [7.9 3.8 6.4 2.  nan]\n",
            " [6.4 2.8 5.6 2.2 nan]\n",
            " [6.3 2.8 5.1 1.5 nan]\n",
            " [6.1 2.6 5.6 1.4 nan]\n",
            " [7.7 3.  6.1 2.3 nan]\n",
            " [6.3 3.4 5.6 2.4 nan]\n",
            " [6.4 3.1 5.5 1.8 nan]\n",
            " [6.  3.  4.8 1.8 nan]\n",
            " [6.9 3.1 5.4 2.1 nan]\n",
            " [6.7 3.1 5.6 2.4 nan]\n",
            " [6.9 3.1 5.1 2.3 nan]\n",
            " [5.8 2.7 5.1 1.9 nan]\n",
            " [6.8 3.2 5.9 2.3 nan]\n",
            " [6.7 3.3 5.7 2.5 nan]\n",
            " [6.7 3.  5.2 2.3 nan]\n",
            " [6.3 2.5 5.  1.9 nan]\n",
            " [6.5 3.  5.2 2.  nan]\n",
            " [6.2 3.4 5.4 2.3 nan]\n",
            " [5.9 3.  5.1 1.8 nan]]\n"
          ]
        }
      ]
    },
    {
      "cell_type": "markdown",
      "source": [
        "Делаем небольшую выборку данных для исследования."
      ],
      "metadata": {
        "id": "WvKxzg6w2mJW"
      }
    },
    {
      "cell_type": "code",
      "source": [
        "print ( \"Data type : \", type(data) )\n",
        "print ( \"Data shape : \", data.shape )\n",
        "print ( data[-10:] )"
      ],
      "metadata": {
        "colab": {
          "base_uri": "https://localhost:8080/"
        },
        "id": "bdlczJJ32p07",
        "outputId": "d3d30a3a-b7ea-4173-f29e-625361456621"
      },
      "execution_count": 3,
      "outputs": [
        {
          "output_type": "stream",
          "name": "stdout",
          "text": [
            "Data type :  <class 'numpy.ndarray'>\n",
            "Data shape :  (150, 5)\n",
            "[[6.7 3.1 5.6 2.4 nan]\n",
            " [6.9 3.1 5.1 2.3 nan]\n",
            " [5.8 2.7 5.1 1.9 nan]\n",
            " [6.8 3.2 5.9 2.3 nan]\n",
            " [6.7 3.3 5.7 2.5 nan]\n",
            " [6.7 3.  5.2 2.3 nan]\n",
            " [6.3 2.5 5.  1.9 nan]\n",
            " [6.5 3.  5.2 2.  nan]\n",
            " [6.2 3.4 5.4 2.3 nan]\n",
            " [5.9 3.  5.1 1.8 nan]]\n"
          ]
        }
      ]
    },
    {
      "cell_type": "markdown",
      "source": [
        "Получаем различные типы набора данных, строки, элемента."
      ],
      "metadata": {
        "id": "z2uQX-jv3HjE"
      }
    },
    {
      "cell_type": "code",
      "source": [
        "data1 = np.genfromtxt(data_path, delimiter=\",\", dtype=None)\n",
        "print('Shape of the dataset:', data1.shape)\n",
        "print('Dataset type:', type(data1))\n",
        "print('A single row of the dataset is type of:', type(data1[0]))\n",
        "print('Types of elements:', type(data1[0][1]), type(data1[0][4]))\n",
        "print('Dataset:')\n",
        "print(data1)"
      ],
      "metadata": {
        "colab": {
          "base_uri": "https://localhost:8080/"
        },
        "id": "Ero_kjmU3Bp_",
        "outputId": "205c4920-2ef6-4ebb-8b82-1025f5f9d859"
      },
      "execution_count": 4,
      "outputs": [
        {
          "output_type": "stream",
          "name": "stdout",
          "text": [
            "Shape of the dataset: (150,)\n",
            "Dataset type: <class 'numpy.ndarray'>\n",
            "A single row of the dataset is type of: <class 'numpy.void'>\n",
            "Types of elements: <class 'numpy.float64'> <class 'numpy.bytes_'>\n",
            "Dataset:\n",
            "[(5.1, 3.5, 1.4, 0.2, b'Iris-setosa') (4.9, 3. , 1.4, 0.2, b'Iris-setosa')\n",
            " (4.7, 3.2, 1.3, 0.2, b'Iris-setosa') (4.6, 3.1, 1.5, 0.2, b'Iris-setosa')\n",
            " (5. , 3.6, 1.4, 0.2, b'Iris-setosa') (5.4, 3.9, 1.7, 0.4, b'Iris-setosa')\n",
            " (4.6, 3.4, 1.4, 0.3, b'Iris-setosa') (5. , 3.4, 1.5, 0.2, b'Iris-setosa')\n",
            " (4.4, 2.9, 1.4, 0.2, b'Iris-setosa') (4.9, 3.1, 1.5, 0.1, b'Iris-setosa')\n",
            " (5.4, 3.7, 1.5, 0.2, b'Iris-setosa') (4.8, 3.4, 1.6, 0.2, b'Iris-setosa')\n",
            " (4.8, 3. , 1.4, 0.1, b'Iris-setosa') (4.3, 3. , 1.1, 0.1, b'Iris-setosa')\n",
            " (5.8, 4. , 1.2, 0.2, b'Iris-setosa') (5.7, 4.4, 1.5, 0.4, b'Iris-setosa')\n",
            " (5.4, 3.9, 1.3, 0.4, b'Iris-setosa') (5.1, 3.5, 1.4, 0.3, b'Iris-setosa')\n",
            " (5.7, 3.8, 1.7, 0.3, b'Iris-setosa') (5.1, 3.8, 1.5, 0.3, b'Iris-setosa')\n",
            " (5.4, 3.4, 1.7, 0.2, b'Iris-setosa') (5.1, 3.7, 1.5, 0.4, b'Iris-setosa')\n",
            " (4.6, 3.6, 1. , 0.2, b'Iris-setosa') (5.1, 3.3, 1.7, 0.5, b'Iris-setosa')\n",
            " (4.8, 3.4, 1.9, 0.2, b'Iris-setosa') (5. , 3. , 1.6, 0.2, b'Iris-setosa')\n",
            " (5. , 3.4, 1.6, 0.4, b'Iris-setosa') (5.2, 3.5, 1.5, 0.2, b'Iris-setosa')\n",
            " (5.2, 3.4, 1.4, 0.2, b'Iris-setosa') (4.7, 3.2, 1.6, 0.2, b'Iris-setosa')\n",
            " (4.8, 3.1, 1.6, 0.2, b'Iris-setosa') (5.4, 3.4, 1.5, 0.4, b'Iris-setosa')\n",
            " (5.2, 4.1, 1.5, 0.1, b'Iris-setosa') (5.5, 4.2, 1.4, 0.2, b'Iris-setosa')\n",
            " (4.9, 3.1, 1.5, 0.1, b'Iris-setosa') (5. , 3.2, 1.2, 0.2, b'Iris-setosa')\n",
            " (5.5, 3.5, 1.3, 0.2, b'Iris-setosa') (4.9, 3.1, 1.5, 0.1, b'Iris-setosa')\n",
            " (4.4, 3. , 1.3, 0.2, b'Iris-setosa') (5.1, 3.4, 1.5, 0.2, b'Iris-setosa')\n",
            " (5. , 3.5, 1.3, 0.3, b'Iris-setosa') (4.5, 2.3, 1.3, 0.3, b'Iris-setosa')\n",
            " (4.4, 3.2, 1.3, 0.2, b'Iris-setosa') (5. , 3.5, 1.6, 0.6, b'Iris-setosa')\n",
            " (5.1, 3.8, 1.9, 0.4, b'Iris-setosa') (4.8, 3. , 1.4, 0.3, b'Iris-setosa')\n",
            " (5.1, 3.8, 1.6, 0.2, b'Iris-setosa') (4.6, 3.2, 1.4, 0.2, b'Iris-setosa')\n",
            " (5.3, 3.7, 1.5, 0.2, b'Iris-setosa') (5. , 3.3, 1.4, 0.2, b'Iris-setosa')\n",
            " (7. , 3.2, 4.7, 1.4, b'Iris-versicolor')\n",
            " (6.4, 3.2, 4.5, 1.5, b'Iris-versicolor')\n",
            " (6.9, 3.1, 4.9, 1.5, b'Iris-versicolor')\n",
            " (5.5, 2.3, 4. , 1.3, b'Iris-versicolor')\n",
            " (6.5, 2.8, 4.6, 1.5, b'Iris-versicolor')\n",
            " (5.7, 2.8, 4.5, 1.3, b'Iris-versicolor')\n",
            " (6.3, 3.3, 4.7, 1.6, b'Iris-versicolor')\n",
            " (4.9, 2.4, 3.3, 1. , b'Iris-versicolor')\n",
            " (6.6, 2.9, 4.6, 1.3, b'Iris-versicolor')\n",
            " (5.2, 2.7, 3.9, 1.4, b'Iris-versicolor')\n",
            " (5. , 2. , 3.5, 1. , b'Iris-versicolor')\n",
            " (5.9, 3. , 4.2, 1.5, b'Iris-versicolor')\n",
            " (6. , 2.2, 4. , 1. , b'Iris-versicolor')\n",
            " (6.1, 2.9, 4.7, 1.4, b'Iris-versicolor')\n",
            " (5.6, 2.9, 3.6, 1.3, b'Iris-versicolor')\n",
            " (6.7, 3.1, 4.4, 1.4, b'Iris-versicolor')\n",
            " (5.6, 3. , 4.5, 1.5, b'Iris-versicolor')\n",
            " (5.8, 2.7, 4.1, 1. , b'Iris-versicolor')\n",
            " (6.2, 2.2, 4.5, 1.5, b'Iris-versicolor')\n",
            " (5.6, 2.5, 3.9, 1.1, b'Iris-versicolor')\n",
            " (5.9, 3.2, 4.8, 1.8, b'Iris-versicolor')\n",
            " (6.1, 2.8, 4. , 1.3, b'Iris-versicolor')\n",
            " (6.3, 2.5, 4.9, 1.5, b'Iris-versicolor')\n",
            " (6.1, 2.8, 4.7, 1.2, b'Iris-versicolor')\n",
            " (6.4, 2.9, 4.3, 1.3, b'Iris-versicolor')\n",
            " (6.6, 3. , 4.4, 1.4, b'Iris-versicolor')\n",
            " (6.8, 2.8, 4.8, 1.4, b'Iris-versicolor')\n",
            " (6.7, 3. , 5. , 1.7, b'Iris-versicolor')\n",
            " (6. , 2.9, 4.5, 1.5, b'Iris-versicolor')\n",
            " (5.7, 2.6, 3.5, 1. , b'Iris-versicolor')\n",
            " (5.5, 2.4, 3.8, 1.1, b'Iris-versicolor')\n",
            " (5.5, 2.4, 3.7, 1. , b'Iris-versicolor')\n",
            " (5.8, 2.7, 3.9, 1.2, b'Iris-versicolor')\n",
            " (6. , 2.7, 5.1, 1.6, b'Iris-versicolor')\n",
            " (5.4, 3. , 4.5, 1.5, b'Iris-versicolor')\n",
            " (6. , 3.4, 4.5, 1.6, b'Iris-versicolor')\n",
            " (6.7, 3.1, 4.7, 1.5, b'Iris-versicolor')\n",
            " (6.3, 2.3, 4.4, 1.3, b'Iris-versicolor')\n",
            " (5.6, 3. , 4.1, 1.3, b'Iris-versicolor')\n",
            " (5.5, 2.5, 4. , 1.3, b'Iris-versicolor')\n",
            " (5.5, 2.6, 4.4, 1.2, b'Iris-versicolor')\n",
            " (6.1, 3. , 4.6, 1.4, b'Iris-versicolor')\n",
            " (5.8, 2.6, 4. , 1.2, b'Iris-versicolor')\n",
            " (5. , 2.3, 3.3, 1. , b'Iris-versicolor')\n",
            " (5.6, 2.7, 4.2, 1.3, b'Iris-versicolor')\n",
            " (5.7, 3. , 4.2, 1.2, b'Iris-versicolor')\n",
            " (5.7, 2.9, 4.2, 1.3, b'Iris-versicolor')\n",
            " (6.2, 2.9, 4.3, 1.3, b'Iris-versicolor')\n",
            " (5.1, 2.5, 3. , 1.1, b'Iris-versicolor')\n",
            " (5.7, 2.8, 4.1, 1.3, b'Iris-versicolor')\n",
            " (6.3, 3.3, 6. , 2.5, b'Iris-virginica')\n",
            " (5.8, 2.7, 5.1, 1.9, b'Iris-virginica')\n",
            " (7.1, 3. , 5.9, 2.1, b'Iris-virginica')\n",
            " (6.3, 2.9, 5.6, 1.8, b'Iris-virginica')\n",
            " (6.5, 3. , 5.8, 2.2, b'Iris-virginica')\n",
            " (7.6, 3. , 6.6, 2.1, b'Iris-virginica')\n",
            " (4.9, 2.5, 4.5, 1.7, b'Iris-virginica')\n",
            " (7.3, 2.9, 6.3, 1.8, b'Iris-virginica')\n",
            " (6.7, 2.5, 5.8, 1.8, b'Iris-virginica')\n",
            " (7.2, 3.6, 6.1, 2.5, b'Iris-virginica')\n",
            " (6.5, 3.2, 5.1, 2. , b'Iris-virginica')\n",
            " (6.4, 2.7, 5.3, 1.9, b'Iris-virginica')\n",
            " (6.8, 3. , 5.5, 2.1, b'Iris-virginica')\n",
            " (5.7, 2.5, 5. , 2. , b'Iris-virginica')\n",
            " (5.8, 2.8, 5.1, 2.4, b'Iris-virginica')\n",
            " (6.4, 3.2, 5.3, 2.3, b'Iris-virginica')\n",
            " (6.5, 3. , 5.5, 1.8, b'Iris-virginica')\n",
            " (7.7, 3.8, 6.7, 2.2, b'Iris-virginica')\n",
            " (7.7, 2.6, 6.9, 2.3, b'Iris-virginica')\n",
            " (6. , 2.2, 5. , 1.5, b'Iris-virginica')\n",
            " (6.9, 3.2, 5.7, 2.3, b'Iris-virginica')\n",
            " (5.6, 2.8, 4.9, 2. , b'Iris-virginica')\n",
            " (7.7, 2.8, 6.7, 2. , b'Iris-virginica')\n",
            " (6.3, 2.7, 4.9, 1.8, b'Iris-virginica')\n",
            " (6.7, 3.3, 5.7, 2.1, b'Iris-virginica')\n",
            " (7.2, 3.2, 6. , 1.8, b'Iris-virginica')\n",
            " (6.2, 2.8, 4.8, 1.8, b'Iris-virginica')\n",
            " (6.1, 3. , 4.9, 1.8, b'Iris-virginica')\n",
            " (6.4, 2.8, 5.6, 2.1, b'Iris-virginica')\n",
            " (7.2, 3. , 5.8, 1.6, b'Iris-virginica')\n",
            " (7.4, 2.8, 6.1, 1.9, b'Iris-virginica')\n",
            " (7.9, 3.8, 6.4, 2. , b'Iris-virginica')\n",
            " (6.4, 2.8, 5.6, 2.2, b'Iris-virginica')\n",
            " (6.3, 2.8, 5.1, 1.5, b'Iris-virginica')\n",
            " (6.1, 2.6, 5.6, 1.4, b'Iris-virginica')\n",
            " (7.7, 3. , 6.1, 2.3, b'Iris-virginica')\n",
            " (6.3, 3.4, 5.6, 2.4, b'Iris-virginica')\n",
            " (6.4, 3.1, 5.5, 1.8, b'Iris-virginica')\n",
            " (6. , 3. , 4.8, 1.8, b'Iris-virginica')\n",
            " (6.9, 3.1, 5.4, 2.1, b'Iris-virginica')\n",
            " (6.7, 3.1, 5.6, 2.4, b'Iris-virginica')\n",
            " (6.9, 3.1, 5.1, 2.3, b'Iris-virginica')\n",
            " (5.8, 2.7, 5.1, 1.9, b'Iris-virginica')\n",
            " (6.8, 3.2, 5.9, 2.3, b'Iris-virginica')\n",
            " (6.7, 3.3, 5.7, 2.5, b'Iris-virginica')\n",
            " (6.7, 3. , 5.2, 2.3, b'Iris-virginica')\n",
            " (6.3, 2.5, 5. , 1.9, b'Iris-virginica')\n",
            " (6.5, 3. , 5.2, 2. , b'Iris-virginica')\n",
            " (6.2, 3.4, 5.4, 2.3, b'Iris-virginica')\n",
            " (5.9, 3. , 5.1, 1.8, b'Iris-virginica')]\n"
          ]
        },
        {
          "output_type": "stream",
          "name": "stderr",
          "text": [
            "<ipython-input-4-be1180784c4e>:1: VisibleDeprecationWarning: Reading unicode strings without specifying the encoding argument is deprecated. Set the encoding, use None for the system default.\n",
            "  data1 = np.genfromtxt(data_path, delimiter=\",\", dtype=None)\n"
          ]
        }
      ]
    },
    {
      "cell_type": "code",
      "source": [
        "dt = np.dtype(\"f8, f8, f8, f8, U30\")\n",
        "data2 = np.genfromtxt(data_path, delimiter=\",\", dtype=dt)\n",
        "print('Shape of the dataset:', data2.shape)\n",
        "print('Dataset type:', type(data2))\n",
        "print('A single row of the dataset is type of:', type(data2[0]))\n",
        "print('Types of elements:', type(data2[0][1]), type(data2[0][4]))\n",
        "print('Dataset slice:')\n",
        "print(data2[:20])"
      ],
      "metadata": {
        "colab": {
          "base_uri": "https://localhost:8080/"
        },
        "id": "2mVnAZne3tGT",
        "outputId": "398eca0b-f7fb-40dd-ffe5-9a7234559e7d"
      },
      "execution_count": 5,
      "outputs": [
        {
          "output_type": "stream",
          "name": "stdout",
          "text": [
            "Shape of the dataset: (150,)\n",
            "Dataset type: <class 'numpy.ndarray'>\n",
            "A single row of the dataset is type of: <class 'numpy.void'>\n",
            "Types of elements: <class 'numpy.float64'> <class 'numpy.str_'>\n",
            "Dataset slice:\n",
            "[(5.1, 3.5, 1.4, 0.2, 'Iris-setosa') (4.9, 3. , 1.4, 0.2, 'Iris-setosa')\n",
            " (4.7, 3.2, 1.3, 0.2, 'Iris-setosa') (4.6, 3.1, 1.5, 0.2, 'Iris-setosa')\n",
            " (5. , 3.6, 1.4, 0.2, 'Iris-setosa') (5.4, 3.9, 1.7, 0.4, 'Iris-setosa')\n",
            " (4.6, 3.4, 1.4, 0.3, 'Iris-setosa') (5. , 3.4, 1.5, 0.2, 'Iris-setosa')\n",
            " (4.4, 2.9, 1.4, 0.2, 'Iris-setosa') (4.9, 3.1, 1.5, 0.1, 'Iris-setosa')\n",
            " (5.4, 3.7, 1.5, 0.2, 'Iris-setosa') (4.8, 3.4, 1.6, 0.2, 'Iris-setosa')\n",
            " (4.8, 3. , 1.4, 0.1, 'Iris-setosa') (4.3, 3. , 1.1, 0.1, 'Iris-setosa')\n",
            " (5.8, 4. , 1.2, 0.2, 'Iris-setosa') (5.7, 4.4, 1.5, 0.4, 'Iris-setosa')\n",
            " (5.4, 3.9, 1.3, 0.4, 'Iris-setosa') (5.1, 3.5, 1.4, 0.3, 'Iris-setosa')\n",
            " (5.7, 3.8, 1.7, 0.3, 'Iris-setosa') (5.1, 3.8, 1.5, 0.3, 'Iris-setosa')]\n"
          ]
        }
      ]
    },
    {
      "cell_type": "markdown",
      "source": [
        "Теперь построим графики с помощью библиотеки Matplotlib."
      ],
      "metadata": {
        "id": "D2b5rChg30kF"
      }
    },
    {
      "cell_type": "code",
      "source": [
        "import matplotlib as mpl\n",
        "import matplotlib.pyplot as plt\n",
        "%matplotlib inline\n",
        "\n",
        "\n",
        "sepal_length = []\n",
        "sepal_width = []\n",
        "petal_length = []\n",
        "petal_width = []\n",
        "\n",
        "\n",
        "for dot in data2:\n",
        "    sepal_length.append(dot[0])\n",
        "    sepal_width.append(dot[1])\n",
        "    petal_length.append(dot[2])\n",
        "    petal_width.append(dot[3])\n",
        "\n",
        "\n",
        "plt.figure(1)\n",
        "setosa, = plt.plot(sepal_length[:50], sepal_width[:50], 'ro', label='Setosa')\n",
        "versicolor, = plt.plot(sepal_length[50:100], sepal_width[50:100], 'g^', label='Versicolor')\n",
        "virginica, = plt.plot(sepal_length[100:150], sepal_width[100:150], 'bs', label='Verginica')\n",
        "plt.legend(bbox_to_anchor=(1.05, 1), loc=2, borderaxespad=0.)\n",
        "plt.xlabel('Sepal Length')\n",
        "plt.ylabel('Sepal Width')\n",
        "\n",
        "plt.figure(2)\n",
        "setosa, = plt.plot(sepal_length[:50], petal_length[:50], 'ro', label='Setosa')\n",
        "versicolor, = plt.plot(sepal_length[50:100], petal_length[50:100], 'g^', label='Versicolor')\n",
        "virginica, = plt.plot(sepal_length[100:150], petal_length[100:150], 'bs', label='Verginica')\n",
        "plt.legend(bbox_to_anchor=(1.05, 1), loc=2, borderaxespad=0.)\n",
        "plt.xlabel('Sepal Length')\n",
        "plt.ylabel('Petal Length')\n",
        "\n",
        "plt.figure(3)\n",
        "setosa, = plt.plot(sepal_length[:50], petal_width[:50], 'ro', label='Setosa')\n",
        "versicolor, = plt.plot(sepal_length[50:100], petal_width[50:100], 'g^', label='Versicolor')\n",
        "virginica, = plt.plot(sepal_length[100:150], petal_width[100:150], 'bs', label='Verginica')\n",
        "plt.legend(bbox_to_anchor=(1.05, 1), loc=2, borderaxespad=0.)\n",
        "plt.xlabel('Sepal Length')\n",
        "plt.ylabel('Petal Width')\n",
        "\n",
        "plt.show()"
      ],
      "metadata": {
        "colab": {
          "base_uri": "https://localhost:8080/",
          "height": 1000
        },
        "id": "h12unHiL4IVs",
        "outputId": "258017d4-dcc1-440e-f060-9d9c98bad0c2"
      },
      "execution_count": 6,
      "outputs": [
        {
          "output_type": "display_data",
          "data": {
            "text/plain": [
              "<Figure size 640x480 with 1 Axes>"
            ],
            "image/png": "[encoded data removed]"
          },
          "metadata": {}
        },
        {
          "output_type": "display_data",
          "data": {
            "text/plain": [
              "<Figure size 640x480 with 1 Axes>"
            ],
            "image/png": "[encoded data removed]"
          },
          "metadata": {}
        },
        {
          "output_type": "display_data",
          "data": {
            "text/plain": [
              "<Figure size 640x480 with 1 Axes>"
            ],
            "image/png": "[encoded data removed]"
          },
          "metadata": {}
        }
      ]
    },
    {
      "cell_type": "markdown",
      "source": [
        "## Индивидуальное задание."
      ],
      "metadata": {
        "id": "VjkDyEtw4g65"
      }
    },
    {
      "cell_type": "markdown",
      "source": [
        "Для начала загружаем данные и импортируем библиотеку NumPy."
      ],
      "metadata": {
        "id": "E485Z7VL5-YQ"
      }
    },
    {
      "cell_type": "code",
      "source": [
        "!wget https://raw.githubusercontent.com/nae-stormrage/AI_Python_NCFU/main/dataset/balance-scale.data"
      ],
      "metadata": {
        "colab": {
          "base_uri": "https://localhost:8080/"
        },
        "id": "kPJn3bTe4kjT",
        "outputId": "bc38245d-f279-4385-b9b5-09d152e64016"
      },
      "execution_count": 17,
      "outputs": [
        {
          "output_type": "stream",
          "name": "stdout",
          "text": [
            "--2024-02-14 18:51:37--  https://raw.githubusercontent.com/nae-stormrage/AI_Python_NCFU/main/dataset/balance-scale.data\n",
            "Resolving raw.githubusercontent.com (raw.githubusercontent.com)... 185.199.108.133, 185.199.109.133, 185.199.110.133, ...\n",
            "Connecting to raw.githubusercontent.com (raw.githubusercontent.com)|185.199.108.133|:443... connected.\n",
            "HTTP request sent, awaiting response... 200 OK\n",
            "Length: 6250 (6.1K) [text/plain]\n",
            "Saving to: ‘balance-scale.data.1’\n",
            "\n",
            "\rbalance-scale.data.   0%[                    ]       0  --.-KB/s               \rbalance-scale.data. 100%[===================>]   6.10K  --.-KB/s    in 0s      \n",
            "\n",
            "2024-02-14 18:51:37 (42.4 MB/s) - ‘balance-scale.data.1’ saved [6250/6250]\n",
            "\n"
          ]
        }
      ]
    },
    {
      "cell_type": "code",
      "source": [
        "import numpy as np\n",
        "data_path = \"balance-scale.data\"\n",
        "data = np.genfromtxt(data_path, delimiter=\",\")\n",
        "print(data)"
      ],
      "metadata": {
        "colab": {
          "base_uri": "https://localhost:8080/"
        },
        "id": "qL6zfQSM6C2w",
        "outputId": "ecf33f2c-3ce4-4bc1-8320-3fcd34ec12c0"
      },
      "execution_count": 18,
      "outputs": [
        {
          "output_type": "stream",
          "name": "stdout",
          "text": [
            "[[nan  1.  1.  1.  1.]\n",
            " [nan  1.  1.  1.  2.]\n",
            " [nan  1.  1.  1.  3.]\n",
            " ...\n",
            " [nan  5.  5.  5.  3.]\n",
            " [nan  5.  5.  5.  4.]\n",
            " [nan  5.  5.  5.  5.]]\n"
          ]
        }
      ]
    },
    {
      "cell_type": "markdown",
      "source": [
        "Делаем небольшую выборку из наших данных для исследования."
      ],
      "metadata": {
        "id": "uBGekvTG6wNU"
      }
    },
    {
      "cell_type": "code",
      "source": [
        "print ( \"Data type : \", type(data) )\n",
        "print ( \"Data shape : \", data.shape )\n",
        "print ( data[-9:] )"
      ],
      "metadata": {
        "colab": {
          "base_uri": "https://localhost:8080/"
        },
        "id": "rr4ZuBLw6vvb",
        "outputId": "c23e6b6f-f1c5-4159-f998-c6bc723a2656"
      },
      "execution_count": 19,
      "outputs": [
        {
          "output_type": "stream",
          "name": "stdout",
          "text": [
            "Data type :  <class 'numpy.ndarray'>\n",
            "Data shape :  (625, 5)\n",
            "[[nan  5.  5.  4.  2.]\n",
            " [nan  5.  5.  4.  3.]\n",
            " [nan  5.  5.  4.  4.]\n",
            " [nan  5.  5.  4.  5.]\n",
            " [nan  5.  5.  5.  1.]\n",
            " [nan  5.  5.  5.  2.]\n",
            " [nan  5.  5.  5.  3.]\n",
            " [nan  5.  5.  5.  4.]\n",
            " [nan  5.  5.  5.  5.]]\n"
          ]
        }
      ]
    },
    {
      "cell_type": "markdown",
      "source": [
        "Получаем различные типы набора данных, строки, элемента."
      ],
      "metadata": {
        "id": "58j8-EHl-LsY"
      }
    },
    {
      "cell_type": "code",
      "source": [
        "data1 = np.genfromtxt(data_path, delimiter=\",\", dtype=None)\n",
        "print('Shape of the dataset:', data1.shape)\n",
        "print('Dataset type:', type(data1))\n",
        "print('A single row of the dataset is type of:', type(data1[0]))\n",
        "print('Types of elements:', type(data1[0][1]), type(data1[0][4]))\n",
        "print('Dataset:')\n",
        "print(data1)"
      ],
      "metadata": {
        "colab": {
          "base_uri": "https://localhost:8080/"
        },
        "id": "4Ua5YZ5J9hcN",
        "outputId": "5f880c38-fe5b-42d1-ec4e-b256a0c40867"
      },
      "execution_count": 20,
      "outputs": [
        {
          "output_type": "stream",
          "name": "stdout",
          "text": [
            "Shape of the dataset: (625,)\n",
            "Dataset type: <class 'numpy.ndarray'>\n",
            "A single row of the dataset is type of: <class 'numpy.void'>\n",
            "Types of elements: <class 'numpy.int64'> <class 'numpy.int64'>\n",
            "Dataset:\n",
            "[(b'B', 1, 1, 1, 1) (b'R', 1, 1, 1, 2) (b'R', 1, 1, 1, 3)\n",
            " (b'R', 1, 1, 1, 4) (b'R', 1, 1, 1, 5) (b'R', 1, 1, 2, 1)\n",
            " (b'R', 1, 1, 2, 2) (b'R', 1, 1, 2, 3) (b'R', 1, 1, 2, 4)\n",
            " (b'R', 1, 1, 2, 5) (b'R', 1, 1, 3, 1) (b'R', 1, 1, 3, 2)\n",
            " (b'R', 1, 1, 3, 3) (b'R', 1, 1, 3, 4) (b'R', 1, 1, 3, 5)\n",
            " (b'R', 1, 1, 4, 1) (b'R', 1, 1, 4, 2) (b'R', 1, 1, 4, 3)\n",
            " (b'R', 1, 1, 4, 4) (b'R', 1, 1, 4, 5) (b'R', 1, 1, 5, 1)\n",
            " (b'R', 1, 1, 5, 2) (b'R', 1, 1, 5, 3) (b'R', 1, 1, 5, 4)\n",
            " (b'R', 1, 1, 5, 5) (b'L', 1, 2, 1, 1) (b'B', 1, 2, 1, 2)\n",
            " (b'R', 1, 2, 1, 3) (b'R', 1, 2, 1, 4) (b'R', 1, 2, 1, 5)\n",
            " (b'B', 1, 2, 2, 1) (b'R', 1, 2, 2, 2) (b'R', 1, 2, 2, 3)\n",
            " (b'R', 1, 2, 2, 4) (b'R', 1, 2, 2, 5) (b'R', 1, 2, 3, 1)\n",
            " (b'R', 1, 2, 3, 2) (b'R', 1, 2, 3, 3) (b'R', 1, 2, 3, 4)\n",
            " (b'R', 1, 2, 3, 5) (b'R', 1, 2, 4, 1) (b'R', 1, 2, 4, 2)\n",
            " (b'R', 1, 2, 4, 3) (b'R', 1, 2, 4, 4) (b'R', 1, 2, 4, 5)\n",
            " (b'R', 1, 2, 5, 1) (b'R', 1, 2, 5, 2) (b'R', 1, 2, 5, 3)\n",
            " (b'R', 1, 2, 5, 4) (b'R', 1, 2, 5, 5) (b'L', 1, 3, 1, 1)\n",
            " (b'L', 1, 3, 1, 2) (b'B', 1, 3, 1, 3) (b'R', 1, 3, 1, 4)\n",
            " (b'R', 1, 3, 1, 5) (b'L', 1, 3, 2, 1) (b'R', 1, 3, 2, 2)\n",
            " (b'R', 1, 3, 2, 3) (b'R', 1, 3, 2, 4) (b'R', 1, 3, 2, 5)\n",
            " (b'B', 1, 3, 3, 1) (b'R', 1, 3, 3, 2) (b'R', 1, 3, 3, 3)\n",
            " (b'R', 1, 3, 3, 4) (b'R', 1, 3, 3, 5) (b'R', 1, 3, 4, 1)\n",
            " (b'R', 1, 3, 4, 2) (b'R', 1, 3, 4, 3) (b'R', 1, 3, 4, 4)\n",
            " (b'R', 1, 3, 4, 5) (b'R', 1, 3, 5, 1) (b'R', 1, 3, 5, 2)\n",
            " (b'R', 1, 3, 5, 3) (b'R', 1, 3, 5, 4) (b'R', 1, 3, 5, 5)\n",
            " (b'L', 1, 4, 1, 1) (b'L', 1, 4, 1, 2) (b'L', 1, 4, 1, 3)\n",
            " (b'B', 1, 4, 1, 4) (b'R', 1, 4, 1, 5) (b'L', 1, 4, 2, 1)\n",
            " (b'B', 1, 4, 2, 2) (b'R', 1, 4, 2, 3) (b'R', 1, 4, 2, 4)\n",
            " (b'R', 1, 4, 2, 5) (b'L', 1, 4, 3, 1) (b'R', 1, 4, 3, 2)\n",
            " (b'R', 1, 4, 3, 3) (b'R', 1, 4, 3, 4) (b'R', 1, 4, 3, 5)\n",
            " (b'B', 1, 4, 4, 1) (b'R', 1, 4, 4, 2) (b'R', 1, 4, 4, 3)\n",
            " (b'R', 1, 4, 4, 4) (b'R', 1, 4, 4, 5) (b'R', 1, 4, 5, 1)\n",
            " (b'R', 1, 4, 5, 2) (b'R', 1, 4, 5, 3) (b'R', 1, 4, 5, 4)\n",
            " (b'R', 1, 4, 5, 5) (b'L', 1, 5, 1, 1) (b'L', 1, 5, 1, 2)\n",
            " (b'L', 1, 5, 1, 3) (b'L', 1, 5, 1, 4) (b'B', 1, 5, 1, 5)\n",
            " (b'L', 1, 5, 2, 1) (b'L', 1, 5, 2, 2) (b'R', 1, 5, 2, 3)\n",
            " (b'R', 1, 5, 2, 4) (b'R', 1, 5, 2, 5) (b'L', 1, 5, 3, 1)\n",
            " (b'R', 1, 5, 3, 2) (b'R', 1, 5, 3, 3) (b'R', 1, 5, 3, 4)\n",
            " (b'R', 1, 5, 3, 5) (b'L', 1, 5, 4, 1) (b'R', 1, 5, 4, 2)\n",
            " (b'R', 1, 5, 4, 3) (b'R', 1, 5, 4, 4) (b'R', 1, 5, 4, 5)\n",
            " (b'B', 1, 5, 5, 1) (b'R', 1, 5, 5, 2) (b'R', 1, 5, 5, 3)\n",
            " (b'R', 1, 5, 5, 4) (b'R', 1, 5, 5, 5) (b'L', 2, 1, 1, 1)\n",
            " (b'B', 2, 1, 1, 2) (b'R', 2, 1, 1, 3) (b'R', 2, 1, 1, 4)\n",
            " (b'R', 2, 1, 1, 5) (b'B', 2, 1, 2, 1) (b'R', 2, 1, 2, 2)\n",
            " (b'R', 2, 1, 2, 3) (b'R', 2, 1, 2, 4) (b'R', 2, 1, 2, 5)\n",
            " (b'R', 2, 1, 3, 1) (b'R', 2, 1, 3, 2) (b'R', 2, 1, 3, 3)\n",
            " (b'R', 2, 1, 3, 4) (b'R', 2, 1, 3, 5) (b'R', 2, 1, 4, 1)\n",
            " (b'R', 2, 1, 4, 2) (b'R', 2, 1, 4, 3) (b'R', 2, 1, 4, 4)\n",
            " (b'R', 2, 1, 4, 5) (b'R', 2, 1, 5, 1) (b'R', 2, 1, 5, 2)\n",
            " (b'R', 2, 1, 5, 3) (b'R', 2, 1, 5, 4) (b'R', 2, 1, 5, 5)\n",
            " (b'L', 2, 2, 1, 1) (b'L', 2, 2, 1, 2) (b'L', 2, 2, 1, 3)\n",
            " (b'B', 2, 2, 1, 4) (b'R', 2, 2, 1, 5) (b'L', 2, 2, 2, 1)\n",
            " (b'B', 2, 2, 2, 2) (b'R', 2, 2, 2, 3) (b'R', 2, 2, 2, 4)\n",
            " (b'R', 2, 2, 2, 5) (b'L', 2, 2, 3, 1) (b'R', 2, 2, 3, 2)\n",
            " (b'R', 2, 2, 3, 3) (b'R', 2, 2, 3, 4) (b'R', 2, 2, 3, 5)\n",
            " (b'B', 2, 2, 4, 1) (b'R', 2, 2, 4, 2) (b'R', 2, 2, 4, 3)\n",
            " (b'R', 2, 2, 4, 4) (b'R', 2, 2, 4, 5) (b'R', 2, 2, 5, 1)\n",
            " (b'R', 2, 2, 5, 2) (b'R', 2, 2, 5, 3) (b'R', 2, 2, 5, 4)\n",
            " (b'R', 2, 2, 5, 5) (b'L', 2, 3, 1, 1) (b'L', 2, 3, 1, 2)\n",
            " (b'L', 2, 3, 1, 3) (b'L', 2, 3, 1, 4) (b'L', 2, 3, 1, 5)\n",
            " (b'L', 2, 3, 2, 1) (b'L', 2, 3, 2, 2) (b'B', 2, 3, 2, 3)\n",
            " (b'R', 2, 3, 2, 4) (b'R', 2, 3, 2, 5) (b'L', 2, 3, 3, 1)\n",
            " (b'B', 2, 3, 3, 2) (b'R', 2, 3, 3, 3) (b'R', 2, 3, 3, 4)\n",
            " (b'R', 2, 3, 3, 5) (b'L', 2, 3, 4, 1) (b'R', 2, 3, 4, 2)\n",
            " (b'R', 2, 3, 4, 3) (b'R', 2, 3, 4, 4) (b'R', 2, 3, 4, 5)\n",
            " (b'L', 2, 3, 5, 1) (b'R', 2, 3, 5, 2) (b'R', 2, 3, 5, 3)\n",
            " (b'R', 2, 3, 5, 4) (b'R', 2, 3, 5, 5) (b'L', 2, 4, 1, 1)\n",
            " (b'L', 2, 4, 1, 2) (b'L', 2, 4, 1, 3) (b'L', 2, 4, 1, 4)\n",
            " (b'L', 2, 4, 1, 5) (b'L', 2, 4, 2, 1) (b'L', 2, 4, 2, 2)\n",
            " (b'L', 2, 4, 2, 3) (b'B', 2, 4, 2, 4) (b'R', 2, 4, 2, 5)\n",
            " (b'L', 2, 4, 3, 1) (b'L', 2, 4, 3, 2) (b'R', 2, 4, 3, 3)\n",
            " (b'R', 2, 4, 3, 4) (b'R', 2, 4, 3, 5) (b'L', 2, 4, 4, 1)\n",
            " (b'B', 2, 4, 4, 2) (b'R', 2, 4, 4, 3) (b'R', 2, 4, 4, 4)\n",
            " (b'R', 2, 4, 4, 5) (b'L', 2, 4, 5, 1) (b'R', 2, 4, 5, 2)\n",
            " (b'R', 2, 4, 5, 3) (b'R', 2, 4, 5, 4) (b'R', 2, 4, 5, 5)\n",
            " (b'L', 2, 5, 1, 1) (b'L', 2, 5, 1, 2) (b'L', 2, 5, 1, 3)\n",
            " (b'L', 2, 5, 1, 4) (b'L', 2, 5, 1, 5) (b'L', 2, 5, 2, 1)\n",
            " (b'L', 2, 5, 2, 2) (b'L', 2, 5, 2, 3) (b'L', 2, 5, 2, 4)\n",
            " (b'B', 2, 5, 2, 5) (b'L', 2, 5, 3, 1) (b'L', 2, 5, 3, 2)\n",
            " (b'L', 2, 5, 3, 3) (b'R', 2, 5, 3, 4) (b'R', 2, 5, 3, 5)\n",
            " (b'L', 2, 5, 4, 1) (b'L', 2, 5, 4, 2) (b'R', 2, 5, 4, 3)\n",
            " (b'R', 2, 5, 4, 4) (b'R', 2, 5, 4, 5) (b'L', 2, 5, 5, 1)\n",
            " (b'B', 2, 5, 5, 2) (b'R', 2, 5, 5, 3) (b'R', 2, 5, 5, 4)\n",
            " (b'R', 2, 5, 5, 5) (b'L', 3, 1, 1, 1) (b'L', 3, 1, 1, 2)\n",
            " (b'B', 3, 1, 1, 3) (b'R', 3, 1, 1, 4) (b'R', 3, 1, 1, 5)\n",
            " (b'L', 3, 1, 2, 1) (b'R', 3, 1, 2, 2) (b'R', 3, 1, 2, 3)\n",
            " (b'R', 3, 1, 2, 4) (b'R', 3, 1, 2, 5) (b'B', 3, 1, 3, 1)\n",
            " (b'R', 3, 1, 3, 2) (b'R', 3, 1, 3, 3) (b'R', 3, 1, 3, 4)\n",
            " (b'R', 3, 1, 3, 5) (b'R', 3, 1, 4, 1) (b'R', 3, 1, 4, 2)\n",
            " (b'R', 3, 1, 4, 3) (b'R', 3, 1, 4, 4) (b'R', 3, 1, 4, 5)\n",
            " (b'R', 3, 1, 5, 1) (b'R', 3, 1, 5, 2) (b'R', 3, 1, 5, 3)\n",
            " (b'R', 3, 1, 5, 4) (b'R', 3, 1, 5, 5) (b'L', 3, 2, 1, 1)\n",
            " (b'L', 3, 2, 1, 2) (b'L', 3, 2, 1, 3) (b'L', 3, 2, 1, 4)\n",
            " (b'L', 3, 2, 1, 5) (b'L', 3, 2, 2, 1) (b'L', 3, 2, 2, 2)\n",
            " (b'B', 3, 2, 2, 3) (b'R', 3, 2, 2, 4) (b'R', 3, 2, 2, 5)\n",
            " (b'L', 3, 2, 3, 1) (b'B', 3, 2, 3, 2) (b'R', 3, 2, 3, 3)\n",
            " (b'R', 3, 2, 3, 4) (b'R', 3, 2, 3, 5) (b'L', 3, 2, 4, 1)\n",
            " (b'R', 3, 2, 4, 2) (b'R', 3, 2, 4, 3) (b'R', 3, 2, 4, 4)\n",
            " (b'R', 3, 2, 4, 5) (b'L', 3, 2, 5, 1) (b'R', 3, 2, 5, 2)\n",
            " (b'R', 3, 2, 5, 3) (b'R', 3, 2, 5, 4) (b'R', 3, 2, 5, 5)\n",
            " (b'L', 3, 3, 1, 1) (b'L', 3, 3, 1, 2) (b'L', 3, 3, 1, 3)\n",
            " (b'L', 3, 3, 1, 4) (b'L', 3, 3, 1, 5) (b'L', 3, 3, 2, 1)\n",
            " (b'L', 3, 3, 2, 2) (b'L', 3, 3, 2, 3) (b'L', 3, 3, 2, 4)\n",
            " (b'R', 3, 3, 2, 5) (b'L', 3, 3, 3, 1) (b'L', 3, 3, 3, 2)\n",
            " (b'B', 3, 3, 3, 3) (b'R', 3, 3, 3, 4) (b'R', 3, 3, 3, 5)\n",
            " (b'L', 3, 3, 4, 1) (b'L', 3, 3, 4, 2) (b'R', 3, 3, 4, 3)\n",
            " (b'R', 3, 3, 4, 4) (b'R', 3, 3, 4, 5) (b'L', 3, 3, 5, 1)\n",
            " (b'R', 3, 3, 5, 2) (b'R', 3, 3, 5, 3) (b'R', 3, 3, 5, 4)\n",
            " (b'R', 3, 3, 5, 5) (b'L', 3, 4, 1, 1) (b'L', 3, 4, 1, 2)\n",
            " (b'L', 3, 4, 1, 3) (b'L', 3, 4, 1, 4) (b'L', 3, 4, 1, 5)\n",
            " (b'L', 3, 4, 2, 1) (b'L', 3, 4, 2, 2) (b'L', 3, 4, 2, 3)\n",
            " (b'L', 3, 4, 2, 4) (b'L', 3, 4, 2, 5) (b'L', 3, 4, 3, 1)\n",
            " (b'L', 3, 4, 3, 2) (b'L', 3, 4, 3, 3) (b'B', 3, 4, 3, 4)\n",
            " (b'R', 3, 4, 3, 5) (b'L', 3, 4, 4, 1) (b'L', 3, 4, 4, 2)\n",
            " (b'B', 3, 4, 4, 3) (b'R', 3, 4, 4, 4) (b'R', 3, 4, 4, 5)\n",
            " (b'L', 3, 4, 5, 1) (b'L', 3, 4, 5, 2) (b'R', 3, 4, 5, 3)\n",
            " (b'R', 3, 4, 5, 4) (b'R', 3, 4, 5, 5) (b'L', 3, 5, 1, 1)\n",
            " (b'L', 3, 5, 1, 2) (b'L', 3, 5, 1, 3) (b'L', 3, 5, 1, 4)\n",
            " (b'L', 3, 5, 1, 5) (b'L', 3, 5, 2, 1) (b'L', 3, 5, 2, 2)\n",
            " (b'L', 3, 5, 2, 3) (b'L', 3, 5, 2, 4) (b'L', 3, 5, 2, 5)\n",
            " (b'L', 3, 5, 3, 1) (b'L', 3, 5, 3, 2) (b'L', 3, 5, 3, 3)\n",
            " (b'L', 3, 5, 3, 4) (b'B', 3, 5, 3, 5) (b'L', 3, 5, 4, 1)\n",
            " (b'L', 3, 5, 4, 2) (b'L', 3, 5, 4, 3) (b'R', 3, 5, 4, 4)\n",
            " (b'R', 3, 5, 4, 5) (b'L', 3, 5, 5, 1) (b'L', 3, 5, 5, 2)\n",
            " (b'B', 3, 5, 5, 3) (b'R', 3, 5, 5, 4) (b'R', 3, 5, 5, 5)\n",
            " (b'L', 4, 1, 1, 1) (b'L', 4, 1, 1, 2) (b'L', 4, 1, 1, 3)\n",
            " (b'B', 4, 1, 1, 4) (b'R', 4, 1, 1, 5) (b'L', 4, 1, 2, 1)\n",
            " (b'B', 4, 1, 2, 2) (b'R', 4, 1, 2, 3) (b'R', 4, 1, 2, 4)\n",
            " (b'R', 4, 1, 2, 5) (b'L', 4, 1, 3, 1) (b'R', 4, 1, 3, 2)\n",
            " (b'R', 4, 1, 3, 3) (b'R', 4, 1, 3, 4) (b'R', 4, 1, 3, 5)\n",
            " (b'B', 4, 1, 4, 1) (b'R', 4, 1, 4, 2) (b'R', 4, 1, 4, 3)\n",
            " (b'R', 4, 1, 4, 4) (b'R', 4, 1, 4, 5) (b'R', 4, 1, 5, 1)\n",
            " (b'R', 4, 1, 5, 2) (b'R', 4, 1, 5, 3) (b'R', 4, 1, 5, 4)\n",
            " (b'R', 4, 1, 5, 5) (b'L', 4, 2, 1, 1) (b'L', 4, 2, 1, 2)\n",
            " (b'L', 4, 2, 1, 3) (b'L', 4, 2, 1, 4) (b'L', 4, 2, 1, 5)\n",
            " (b'L', 4, 2, 2, 1) (b'L', 4, 2, 2, 2) (b'L', 4, 2, 2, 3)\n",
            " (b'B', 4, 2, 2, 4) (b'R', 4, 2, 2, 5) (b'L', 4, 2, 3, 1)\n",
            " (b'L', 4, 2, 3, 2) (b'R', 4, 2, 3, 3) (b'R', 4, 2, 3, 4)\n",
            " (b'R', 4, 2, 3, 5) (b'L', 4, 2, 4, 1) (b'B', 4, 2, 4, 2)\n",
            " (b'R', 4, 2, 4, 3) (b'R', 4, 2, 4, 4) (b'R', 4, 2, 4, 5)\n",
            " (b'L', 4, 2, 5, 1) (b'R', 4, 2, 5, 2) (b'R', 4, 2, 5, 3)\n",
            " (b'R', 4, 2, 5, 4) (b'R', 4, 2, 5, 5) (b'L', 4, 3, 1, 1)\n",
            " (b'L', 4, 3, 1, 2) (b'L', 4, 3, 1, 3) (b'L', 4, 3, 1, 4)\n",
            " (b'L', 4, 3, 1, 5) (b'L', 4, 3, 2, 1) (b'L', 4, 3, 2, 2)\n",
            " (b'L', 4, 3, 2, 3) (b'L', 4, 3, 2, 4) (b'L', 4, 3, 2, 5)\n",
            " (b'L', 4, 3, 3, 1) (b'L', 4, 3, 3, 2) (b'L', 4, 3, 3, 3)\n",
            " (b'B', 4, 3, 3, 4) (b'R', 4, 3, 3, 5) (b'L', 4, 3, 4, 1)\n",
            " (b'L', 4, 3, 4, 2) (b'B', 4, 3, 4, 3) (b'R', 4, 3, 4, 4)\n",
            " (b'R', 4, 3, 4, 5) (b'L', 4, 3, 5, 1) (b'L', 4, 3, 5, 2)\n",
            " (b'R', 4, 3, 5, 3) (b'R', 4, 3, 5, 4) (b'R', 4, 3, 5, 5)\n",
            " (b'L', 4, 4, 1, 1) (b'L', 4, 4, 1, 2) (b'L', 4, 4, 1, 3)\n",
            " (b'L', 4, 4, 1, 4) (b'L', 4, 4, 1, 5) (b'L', 4, 4, 2, 1)\n",
            " (b'L', 4, 4, 2, 2) (b'L', 4, 4, 2, 3) (b'L', 4, 4, 2, 4)\n",
            " (b'L', 4, 4, 2, 5) (b'L', 4, 4, 3, 1) (b'L', 4, 4, 3, 2)\n",
            " (b'L', 4, 4, 3, 3) (b'L', 4, 4, 3, 4) (b'L', 4, 4, 3, 5)\n",
            " (b'L', 4, 4, 4, 1) (b'L', 4, 4, 4, 2) (b'L', 4, 4, 4, 3)\n",
            " (b'B', 4, 4, 4, 4) (b'R', 4, 4, 4, 5) (b'L', 4, 4, 5, 1)\n",
            " (b'L', 4, 4, 5, 2) (b'L', 4, 4, 5, 3) (b'R', 4, 4, 5, 4)\n",
            " (b'R', 4, 4, 5, 5) (b'L', 4, 5, 1, 1) (b'L', 4, 5, 1, 2)\n",
            " (b'L', 4, 5, 1, 3) (b'L', 4, 5, 1, 4) (b'L', 4, 5, 1, 5)\n",
            " (b'L', 4, 5, 2, 1) (b'L', 4, 5, 2, 2) (b'L', 4, 5, 2, 3)\n",
            " (b'L', 4, 5, 2, 4) (b'L', 4, 5, 2, 5) (b'L', 4, 5, 3, 1)\n",
            " (b'L', 4, 5, 3, 2) (b'L', 4, 5, 3, 3) (b'L', 4, 5, 3, 4)\n",
            " (b'L', 4, 5, 3, 5) (b'L', 4, 5, 4, 1) (b'L', 4, 5, 4, 2)\n",
            " (b'L', 4, 5, 4, 3) (b'L', 4, 5, 4, 4) (b'B', 4, 5, 4, 5)\n",
            " (b'L', 4, 5, 5, 1) (b'L', 4, 5, 5, 2) (b'L', 4, 5, 5, 3)\n",
            " (b'B', 4, 5, 5, 4) (b'R', 4, 5, 5, 5) (b'L', 5, 1, 1, 1)\n",
            " (b'L', 5, 1, 1, 2) (b'L', 5, 1, 1, 3) (b'L', 5, 1, 1, 4)\n",
            " (b'B', 5, 1, 1, 5) (b'L', 5, 1, 2, 1) (b'L', 5, 1, 2, 2)\n",
            " (b'R', 5, 1, 2, 3) (b'R', 5, 1, 2, 4) (b'R', 5, 1, 2, 5)\n",
            " (b'L', 5, 1, 3, 1) (b'R', 5, 1, 3, 2) (b'R', 5, 1, 3, 3)\n",
            " (b'R', 5, 1, 3, 4) (b'R', 5, 1, 3, 5) (b'L', 5, 1, 4, 1)\n",
            " (b'R', 5, 1, 4, 2) (b'R', 5, 1, 4, 3) (b'R', 5, 1, 4, 4)\n",
            " (b'R', 5, 1, 4, 5) (b'B', 5, 1, 5, 1) (b'R', 5, 1, 5, 2)\n",
            " (b'R', 5, 1, 5, 3) (b'R', 5, 1, 5, 4) (b'R', 5, 1, 5, 5)\n",
            " (b'L', 5, 2, 1, 1) (b'L', 5, 2, 1, 2) (b'L', 5, 2, 1, 3)\n",
            " (b'L', 5, 2, 1, 4) (b'L', 5, 2, 1, 5) (b'L', 5, 2, 2, 1)\n",
            " (b'L', 5, 2, 2, 2) (b'L', 5, 2, 2, 3) (b'L', 5, 2, 2, 4)\n",
            " (b'B', 5, 2, 2, 5) (b'L', 5, 2, 3, 1) (b'L', 5, 2, 3, 2)\n",
            " (b'L', 5, 2, 3, 3) (b'R', 5, 2, 3, 4) (b'R', 5, 2, 3, 5)\n",
            " (b'L', 5, 2, 4, 1) (b'L', 5, 2, 4, 2) (b'R', 5, 2, 4, 3)\n",
            " (b'R', 5, 2, 4, 4) (b'R', 5, 2, 4, 5) (b'L', 5, 2, 5, 1)\n",
            " (b'B', 5, 2, 5, 2) (b'R', 5, 2, 5, 3) (b'R', 5, 2, 5, 4)\n",
            " (b'R', 5, 2, 5, 5) (b'L', 5, 3, 1, 1) (b'L', 5, 3, 1, 2)\n",
            " (b'L', 5, 3, 1, 3) (b'L', 5, 3, 1, 4) (b'L', 5, 3, 1, 5)\n",
            " (b'L', 5, 3, 2, 1) (b'L', 5, 3, 2, 2) (b'L', 5, 3, 2, 3)\n",
            " (b'L', 5, 3, 2, 4) (b'L', 5, 3, 2, 5) (b'L', 5, 3, 3, 1)\n",
            " (b'L', 5, 3, 3, 2) (b'L', 5, 3, 3, 3) (b'L', 5, 3, 3, 4)\n",
            " (b'B', 5, 3, 3, 5) (b'L', 5, 3, 4, 1) (b'L', 5, 3, 4, 2)\n",
            " (b'L', 5, 3, 4, 3) (b'R', 5, 3, 4, 4) (b'R', 5, 3, 4, 5)\n",
            " (b'L', 5, 3, 5, 1) (b'L', 5, 3, 5, 2) (b'B', 5, 3, 5, 3)\n",
            " (b'R', 5, 3, 5, 4) (b'R', 5, 3, 5, 5) (b'L', 5, 4, 1, 1)\n",
            " (b'L', 5, 4, 1, 2) (b'L', 5, 4, 1, 3) (b'L', 5, 4, 1, 4)\n",
            " (b'L', 5, 4, 1, 5) (b'L', 5, 4, 2, 1) (b'L', 5, 4, 2, 2)\n",
            " (b'L', 5, 4, 2, 3) (b'L', 5, 4, 2, 4) (b'L', 5, 4, 2, 5)\n",
            " (b'L', 5, 4, 3, 1) (b'L', 5, 4, 3, 2) (b'L', 5, 4, 3, 3)\n",
            " (b'L', 5, 4, 3, 4) (b'L', 5, 4, 3, 5) (b'L', 5, 4, 4, 1)\n",
            " (b'L', 5, 4, 4, 2) (b'L', 5, 4, 4, 3) (b'L', 5, 4, 4, 4)\n",
            " (b'B', 5, 4, 4, 5) (b'L', 5, 4, 5, 1) (b'L', 5, 4, 5, 2)\n",
            " (b'L', 5, 4, 5, 3) (b'B', 5, 4, 5, 4) (b'R', 5, 4, 5, 5)\n",
            " (b'L', 5, 5, 1, 1) (b'L', 5, 5, 1, 2) (b'L', 5, 5, 1, 3)\n",
            " (b'L', 5, 5, 1, 4) (b'L', 5, 5, 1, 5) (b'L', 5, 5, 2, 1)\n",
            " (b'L', 5, 5, 2, 2) (b'L', 5, 5, 2, 3) (b'L', 5, 5, 2, 4)\n",
            " (b'L', 5, 5, 2, 5) (b'L', 5, 5, 3, 1) (b'L', 5, 5, 3, 2)\n",
            " (b'L', 5, 5, 3, 3) (b'L', 5, 5, 3, 4) (b'L', 5, 5, 3, 5)\n",
            " (b'L', 5, 5, 4, 1) (b'L', 5, 5, 4, 2) (b'L', 5, 5, 4, 3)\n",
            " (b'L', 5, 5, 4, 4) (b'L', 5, 5, 4, 5) (b'L', 5, 5, 5, 1)\n",
            " (b'L', 5, 5, 5, 2) (b'L', 5, 5, 5, 3) (b'L', 5, 5, 5, 4)\n",
            " (b'B', 5, 5, 5, 5)]\n"
          ]
        },
        {
          "output_type": "stream",
          "name": "stderr",
          "text": [
            "<ipython-input-20-be1180784c4e>:1: VisibleDeprecationWarning: Reading unicode strings without specifying the encoding argument is deprecated. Set the encoding, use None for the system default.\n",
            "  data1 = np.genfromtxt(data_path, delimiter=\",\", dtype=None)\n"
          ]
        }
      ]
    },
    {
      "cell_type": "code",
      "source": [
        "dt = np.dtype(\"U30, i1, i1, i1, i1\")\n",
        "data2 = np.genfromtxt(data_path, delimiter=\",\", dtype=dt)\n",
        "print('Shape of the dataset:', data2.shape)\n",
        "print('Dataset type:', type(data2))\n",
        "print('A single row of the dataset is type of:', type(data2[0]))\n",
        "print('Types of elements:', type(data2[0][1]), type(data2[0][4]))\n",
        "print('Dataset slice:')\n",
        "print(data2[:16])"
      ],
      "metadata": {
        "colab": {
          "base_uri": "https://localhost:8080/"
        },
        "id": "4OAQGNRA9nt6",
        "outputId": "f65c8689-3bbc-466b-c5de-e06b80b3620a"
      },
      "execution_count": 25,
      "outputs": [
        {
          "output_type": "stream",
          "name": "stdout",
          "text": [
            "Shape of the dataset: (625,)\n",
            "Dataset type: <class 'numpy.ndarray'>\n",
            "A single row of the dataset is type of: <class 'numpy.void'>\n",
            "Types of elements: <class 'numpy.int8'> <class 'numpy.int8'>\n",
            "Dataset slice:\n",
            "[('B', 1, 1, 1, 1) ('R', 1, 1, 1, 2) ('R', 1, 1, 1, 3) ('R', 1, 1, 1, 4)\n",
            " ('R', 1, 1, 1, 5) ('R', 1, 1, 2, 1) ('R', 1, 1, 2, 2) ('R', 1, 1, 2, 3)\n",
            " ('R', 1, 1, 2, 4) ('R', 1, 1, 2, 5) ('R', 1, 1, 3, 1) ('R', 1, 1, 3, 2)\n",
            " ('R', 1, 1, 3, 3) ('R', 1, 1, 3, 4) ('R', 1, 1, 3, 5) ('R', 1, 1, 4, 1)]\n"
          ]
        }
      ]
    },
    {
      "cell_type": "markdown",
      "source": [
        "Теперь построим графики с помощью библиотеки Matplotlib"
      ],
      "metadata": {
        "id": "5VwoLfim-Z-b"
      }
    },
    {
      "cell_type": "code",
      "source": [
        "import matplotlib as mpl\n",
        "import matplotlib.pyplot as plt\n",
        "%matplotlib inline\n",
        "\n",
        "\n",
        "left_weight = []\n",
        "left_distance = []\n",
        "right_weight = []\n",
        "right_distance = []\n",
        "\n",
        "\n",
        "for dot in data2:\n",
        "    left_weight.append(dot[1])\n",
        "    left_distance.append(dot[2])\n",
        "    right_weight.append(dot[3])\n",
        "    right_distance.append(dot[4])\n",
        "\n",
        "\n",
        "plt.figure(1)\n",
        "L, = plt.plot(left_weight[:210], left_distance[:210], 'ro', label='L')\n",
        "B, = plt.plot(left_weight[210:420], left_distance[210:420], 'g^', label='B')\n",
        "R, = plt.plot(left_weight[420:625], left_distance[420:625], 'bs', label='R')\n",
        "plt.legend(bbox_to_anchor=(1.05, 1), loc=2, borderaxespad=0.)\n",
        "plt.xlabel('Left Weight')\n",
        "plt.ylabel('Left Distance')\n",
        "\n",
        "plt.figure(2)\n",
        "L, = plt.plot(left_weight[:210], right_weight[:210], 'ro', label='L')\n",
        "B, = plt.plot(left_weight[210:420], right_weight[210:420], 'g^', label='B')\n",
        "R, = plt.plot(left_weight[420:625], right_weight[420:625], 'bs', label='R')\n",
        "plt.legend(bbox_to_anchor=(1.05, 1), loc=2, borderaxespad=0.)\n",
        "plt.xlabel('Left Weight')\n",
        "plt.ylabel('Right Weight')\n",
        "\n",
        "plt.figure(3)\n",
        "L, = plt.plot(left_weight[:210], right_distance[:210], 'ro', label='L')\n",
        "B, = plt.plot(left_weight[210:420], right_distance[210:420], 'g^', label='B')\n",
        "R, = plt.plot(left_weight[420:625], right_distance[420:625], 'bs', label='R')\n",
        "plt.legend(bbox_to_anchor=(1.05, 1), loc=2, borderaxespad=0.)\n",
        "plt.xlabel('Left Weight')\n",
        "plt.ylabel('Right Distance')\n",
        "\n",
        "plt.show()"
      ],
      "metadata": {
        "colab": {
          "base_uri": "https://localhost:8080/",
          "height": 1000
        },
        "id": "E4hdJ4zo-QMd",
        "outputId": "4dc3a2f9-f536-4fc3-c572-53905c486ee1"
      },
      "execution_count": 30,
      "outputs": [
        {
          "output_type": "display_data",
          "data": {
            "text/plain": [
              "<Figure size 640x480 with 1 Axes>"
            ],
            "image/png": "[encoded data removed]"
          },
          "metadata": {}
        },
        {
          "output_type": "display_data",
          "data": {
            "text/plain": [
              "<Figure size 640x480 with 1 Axes>"
            ],
            "image/png": "[encoded data removed]"
          },
          "metadata": {}
        },
        {
          "output_type": "display_data",
          "data": {
            "text/plain": [
              "<Figure size 640x480 with 1 Axes>"
            ],
            "image/png": "[encoded data removed]"
          },
          "metadata": {}
        }
      ]
    },
    {
      "cell_type": "markdown",
      "source": [
        "## Ответы на контрольные вопросы:"
      ],
      "metadata": {
        "id": "xH2Z9lcrBfOU"
      }
    },
    {
      "cell_type": "markdown",
      "source": [
        "1. Для организации рабочего места специалиста Data Science часто используются следующие инструменты:\n",
        "   - **Интегрированные среды разработки (IDE)**: Например, Jupyter Notebook, JupyterLab, PyCharm, VS Code. Они предоставляют удобную среду для написания кода, запуска и отладки.\n",
        "   - **Библиотеки для визуализации данных**: Такие как Matplotlib, Seaborn, Plotly. Они помогают анализировать данные и представлять их в удобном для восприятия виде.\n",
        "   - **Инструменты для управления зависимостями и пакетами**: Например, pip (для установки и управления библиотеками Python) и Conda (для управления средами и зависимостями).\n",
        "   - **Системы контроля версий**: Например, Git, для отслеживания изменений в коде и совместной работы над проектами.\n",
        "\n",
        "2. Некоторые из основных библиотек Python для работы в области машинного обучения включают:\n",
        "   - **NumPy**: Предоставляет поддержку для работы с многомерными массивами и математическими функциями.\n",
        "   - **Pandas**: Предоставляет структуры данных и функции для работы с данными, особенно для анализа и преобразования табличных данных.\n",
        "   - **Scikit-learn**: Популярная библиотека для машинного обучения, включающая множество алгоритмов классификации, регрессии, кластеризации и прочих.\n",
        "   - **TensorFlow и PyTorch**: Библиотеки глубокого обучения, предоставляющие гибкие инструменты для создания и обучения нейронных сетей.\n",
        "   - **Keras**: Высокоуровневый интерфейс для работы с TensorFlow и другими библиотеками глубокого обучения, упрощающий создание и обучение нейронных сетей.\n",
        "\n",
        "3. Библиотеки Python получили широкое распространение при реализации систем машинного обучения по следующим причинам:\n",
        "   - **Простота использования**: Python имеет простой и понятный синтаксис, что делает его доступным для широкого круга специалистов.\n",
        "   - **Большое сообщество**: Python имеет активное сообщество разработчиков и исследователей, которые создают и поддерживают множество библиотек и инструментов для машинного обучения.\n",
        "   - **Обширный выбор библиотек**: В Python существует множество высококачественных библиотек для машинного обучения, позволяющих легко реализовывать различные алгоритмы и модели.\n",
        "   - **Интеграция с другими инструментами и технологиями**: Python легко интегрируется с другими инструментами и технологиями, что делает его удобным выбором для разработки систем машинного обучения, включая работу с данными, визуализацию и развертывание моделей."
      ],
      "metadata": {
        "id": "ZJC_JeSZBnjB"
      }
    }
  ]
}